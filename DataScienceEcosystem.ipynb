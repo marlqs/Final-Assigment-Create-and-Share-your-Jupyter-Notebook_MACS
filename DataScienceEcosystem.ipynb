{
 "cells": [
  {
   "cell_type": "markdown",
   "id": "f815878e-8a4a-4c65-99b0-2ddee0827cc0",
   "metadata": {},
   "source": [
    "Data Science Tools and Ecosystem"
   ]
  },
  {
   "cell_type": "markdown",
   "id": "81f2a84e-2881-43e2-8fc2-8927b004000d",
   "metadata": {},
   "source": [
    "# Data Science Tools and Ecosystem"
   ]
  },
  {
   "cell_type": "markdown",
   "id": "f5ce2403-efe5-4a47-be42-4aba7d2d783f",
   "metadata": {},
   "source": [
    "In this notebook, Data Science Tools and Ecosystem are summarized"
   ]
  },
  {
   "cell_type": "markdown",
   "id": "55dbd45d-c8b7-4e7e-8c98-455317f5ae20",
   "metadata": {},
   "source": [
    "Objectives:\n",
    " - Know how to use JupytherLab\n",
    " - Learn the libraries used in Python for Data Science\n",
    " - Learn popular languages for Data Science"
   ]
  },
  {
   "cell_type": "markdown",
   "id": "a20b76a8-aba6-4e34-87b4-a24ee41d883a",
   "metadata": {},
   "source": [
    "Some of the popular languages that Data Scientists use are:"
   ]
  },
  {
   "cell_type": "markdown",
   "id": "55c70c0b-9d48-47f2-9592-c4ad3fa208b8",
   "metadata": {},
   "source": [
    "1. Java\n",
    "2. C++\n",
    "3. Python\n",
    "4. Scala\n",
    "5. Julia"
   ]
  },
  {
   "cell_type": "markdown",
   "id": "c3393336-2da7-4380-841c-c931f1d3a88a",
   "metadata": {},
   "source": [
    "|Data Science Tools|\n",
    "| -------------|\n",
    "| JupyterLab|\n",
    "|VisualStudio Code|\n",
    "|Anaconda|"
   ]
  },
  {
   "cell_type": "markdown",
   "id": "ae8d4276-71bc-4329-b0a5-4268a9333e5f",
   "metadata": {},
   "source": [
    "### Below are a few examples of evaluating arithmetic expressions in Python"
   ]
  },
  {
   "cell_type": "code",
   "execution_count": 1,
   "id": "bfb5df0e-23ee-40c5-b868-254f2b053f75",
   "metadata": {
    "tags": []
   },
   "outputs": [
    {
     "data": {
      "text/plain": [
       "17"
      ]
     },
     "execution_count": 1,
     "metadata": {},
     "output_type": "execute_result"
    }
   ],
   "source": [
    "# This is a simple arithmetic expression to multiply the add intergers.\n",
    "(3*4)+5"
   ]
  },
  {
   "cell_type": "code",
   "execution_count": 2,
   "id": "52ea309f-b282-4be1-b4d8-260267791f31",
   "metadata": {
    "tags": []
   },
   "outputs": [
    {
     "data": {
      "text/plain": [
       "3.3333333333333335"
      ]
     },
     "execution_count": 2,
     "metadata": {},
     "output_type": "execute_result"
    }
   ],
   "source": [
    "# This will convert 200 minutes to hours by dividing by 60.\n",
    "(200)/60"
   ]
  },
  {
   "cell_type": "markdown",
   "id": "b1fd8517-5c54-46be-bf8d-ee985b7b0982",
   "metadata": {},
   "source": [
    "## Author\n",
    "- Marla Contreras"
   ]
  },
  {
   "cell_type": "code",
   "execution_count": null,
   "id": "516e29c9-b037-4446-ab21-59106b94c6e2",
   "metadata": {},
   "outputs": [],
   "source": []
  }
 ],
 "metadata": {
  "kernelspec": {
   "display_name": "Python",
   "language": "python",
   "name": "conda-env-python-py"
  },
  "language_info": {
   "codemirror_mode": {
    "name": "ipython",
    "version": 3
   },
   "file_extension": ".py",
   "mimetype": "text/x-python",
   "name": "python",
   "nbconvert_exporter": "python",
   "pygments_lexer": "ipython3",
   "version": "3.7.12"
  }
 },
 "nbformat": 4,
 "nbformat_minor": 5
}
